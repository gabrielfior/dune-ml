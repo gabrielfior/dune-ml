{
 "cells": [
  {
   "cell_type": "code",
   "execution_count": 51,
   "id": "582f570f",
   "metadata": {},
   "outputs": [
    {
     "data": {
      "text/plain": [
       "True"
      ]
     },
     "execution_count": 51,
     "metadata": {},
     "output_type": "execute_result"
    }
   ],
   "source": [
    "import boto3\n",
    "import json\n",
    "import matplotlib.pyplot as plt\n",
    "import matplotlib.dates as mdates\n",
    "import numpy as np\n",
    "import seaborn as sns\n",
    "import dotenv\n",
    "import os\n",
    "from spacytextblob.spacytextblob import SpacyTextBlob\n",
    "import pandas as pd\n",
    "dotenv.load_dotenv()"
   ]
  },
  {
   "cell_type": "code",
   "execution_count": 2,
   "id": "63b86b95",
   "metadata": {
    "scrolled": true
   },
   "outputs": [
    {
     "name": "stdout",
     "output_type": "stream",
     "text": [
      "Requirement already satisfied: seaborn in c:\\users\\gabri\\miniconda3\\envs\\dune-ml\\lib\\site-packages (0.12.0)\n",
      "Requirement already satisfied: numpy>=1.17 in c:\\users\\gabri\\miniconda3\\envs\\dune-ml\\lib\\site-packages (from seaborn) (1.23.3)\n",
      "Requirement already satisfied: pandas>=0.25 in c:\\users\\gabri\\miniconda3\\envs\\dune-ml\\lib\\site-packages (from seaborn) (1.4.4)\n",
      "Requirement already satisfied: matplotlib>=3.1 in c:\\users\\gabri\\miniconda3\\envs\\dune-ml\\lib\\site-packages (from seaborn) (3.6.0)\n",
      "Requirement already satisfied: contourpy>=1.0.1 in c:\\users\\gabri\\miniconda3\\envs\\dune-ml\\lib\\site-packages (from matplotlib>=3.1->seaborn) (1.0.5)\n",
      "Requirement already satisfied: kiwisolver>=1.0.1 in c:\\users\\gabri\\miniconda3\\envs\\dune-ml\\lib\\site-packages (from matplotlib>=3.1->seaborn) (1.4.4)\n",
      "Requirement already satisfied: fonttools>=4.22.0 in c:\\users\\gabri\\miniconda3\\envs\\dune-ml\\lib\\site-packages (from matplotlib>=3.1->seaborn) (4.37.2)\n",
      "Requirement already satisfied: pyparsing>=2.2.1 in c:\\users\\gabri\\miniconda3\\envs\\dune-ml\\lib\\site-packages (from matplotlib>=3.1->seaborn) (3.0.9)\n",
      "Requirement already satisfied: pillow>=6.2.0 in c:\\users\\gabri\\miniconda3\\envs\\dune-ml\\lib\\site-packages (from matplotlib>=3.1->seaborn) (9.2.0)\n",
      "Requirement already satisfied: cycler>=0.10 in c:\\users\\gabri\\miniconda3\\envs\\dune-ml\\lib\\site-packages (from matplotlib>=3.1->seaborn) (0.11.0)\n",
      "Requirement already satisfied: python-dateutil>=2.7 in c:\\users\\gabri\\miniconda3\\envs\\dune-ml\\lib\\site-packages (from matplotlib>=3.1->seaborn) (2.8.2)\n",
      "Requirement already satisfied: packaging>=20.0 in c:\\users\\gabri\\miniconda3\\envs\\dune-ml\\lib\\site-packages (from matplotlib>=3.1->seaborn) (21.3)\n",
      "Requirement already satisfied: pytz>=2020.1 in c:\\users\\gabri\\miniconda3\\envs\\dune-ml\\lib\\site-packages (from pandas>=0.25->seaborn) (2022.2.1)\n",
      "Requirement already satisfied: six>=1.5 in c:\\users\\gabri\\miniconda3\\envs\\dune-ml\\lib\\site-packages (from python-dateutil>=2.7->matplotlib>=3.1->seaborn) (1.16.0)\n"
     ]
    }
   ],
   "source": [
    "!pip install seaborn"
   ]
  },
  {
   "cell_type": "code",
   "execution_count": 3,
   "id": "5f4a2f47",
   "metadata": {},
   "outputs": [],
   "source": [
    "import spacy"
   ]
  },
  {
   "cell_type": "code",
   "execution_count": 4,
   "id": "a370e90b",
   "metadata": {},
   "outputs": [],
   "source": [
    "nlp=spacy.load('en_core_web_sm')"
   ]
  },
  {
   "cell_type": "code",
   "execution_count": 5,
   "id": "43050e1a",
   "metadata": {},
   "outputs": [
    {
     "data": {
      "text/plain": [
       "<spacytextblob.spacytextblob.SpacyTextBlob at 0x2ce35fcdb50>"
      ]
     },
     "execution_count": 5,
     "metadata": {},
     "output_type": "execute_result"
    }
   ],
   "source": [
    "nlp.add_pipe('spacytextblob')"
   ]
  },
  {
   "cell_type": "code",
   "execution_count": 6,
   "id": "1c8d63ad",
   "metadata": {},
   "outputs": [],
   "source": [
    "text = 'I had a really horrible day. It was the worst day ever! But every now and then I have a really good day that makes me happy.'"
   ]
  },
  {
   "cell_type": "code",
   "execution_count": 7,
   "id": "8a4ebd5e",
   "metadata": {},
   "outputs": [],
   "source": [
    "doc = nlp(text)"
   ]
  },
  {
   "cell_type": "code",
   "execution_count": 8,
   "id": "3b8013af",
   "metadata": {},
   "outputs": [
    {
     "data": {
      "text/plain": [
       "-0.125"
      ]
     },
     "execution_count": 8,
     "metadata": {},
     "output_type": "execute_result"
    }
   ],
   "source": [
    "doc._.blob.polarity"
   ]
  },
  {
   "cell_type": "code",
   "execution_count": 9,
   "id": "c74d8bcc",
   "metadata": {},
   "outputs": [],
   "source": [
    "def define_sentiment(polarity):\n",
    "    if polarity < -0.3:\n",
    "        return 'negative'\n",
    "    elif polarity > 0.3:\n",
    "        return 'positive'\n",
    "    return 'neutral'"
   ]
  },
  {
   "cell_type": "code",
   "execution_count": 10,
   "id": "02dc61d0",
   "metadata": {},
   "outputs": [
    {
     "data": {
      "text/plain": [
       "'neutral'"
      ]
     },
     "execution_count": 10,
     "metadata": {},
     "output_type": "execute_result"
    }
   ],
   "source": [
    "define_sentiment(-0.3)"
   ]
  },
  {
   "cell_type": "code",
   "execution_count": 11,
   "id": "cf70d5da",
   "metadata": {},
   "outputs": [],
   "source": [
    "# read from posts"
   ]
  },
  {
   "cell_type": "code",
   "execution_count": 30,
   "id": "a0913bea",
   "metadata": {},
   "outputs": [],
   "source": [
    "s3 = boto3.client('s3', aws_access_key_id=os.environ['AWS_ACCESS_KEY'],\n",
    "                  aws_secret_access_key=os.environ['AWS_SECRET_KEY'])\n",
    "obj = s3.get_object(Bucket='dune-ml', Key='PUBLICATIONS_v2.json')\n",
    "result = obj['Body'].read().decode('utf-8')\n",
    "lens_data = json.loads(result)"
   ]
  },
  {
   "cell_type": "code",
   "execution_count": 31,
   "id": "f8732d3a",
   "metadata": {},
   "outputs": [],
   "source": [
    "df = pd.DataFrame(lens_data)"
   ]
  },
  {
   "cell_type": "code",
   "execution_count": 32,
   "id": "a7dc07b2",
   "metadata": {},
   "outputs": [],
   "source": [
    "df['content'] = df['metadata'].apply(lambda x: x['content'])"
   ]
  },
  {
   "cell_type": "code",
   "execution_count": 33,
   "id": "420bbbc5",
   "metadata": {},
   "outputs": [],
   "source": [
    "contents = df['content'].values\n",
    "df_small = df[:10]"
   ]
  },
  {
   "cell_type": "code",
   "execution_count": 35,
   "id": "b677d07a",
   "metadata": {},
   "outputs": [],
   "source": [
    "df.dropna(subset=['content'],inplace=True)"
   ]
  },
  {
   "cell_type": "code",
   "execution_count": 36,
   "id": "00b8329c",
   "metadata": {},
   "outputs": [],
   "source": [
    "df['doc'] = df['content'].apply(nlp)"
   ]
  },
  {
   "cell_type": "code",
   "execution_count": 37,
   "id": "586933a6",
   "metadata": {},
   "outputs": [],
   "source": [
    "df['sentiment'] = df['doc'].apply(lambda x: define_sentiment(x._.blob.polarity))"
   ]
  },
  {
   "cell_type": "code",
   "execution_count": 38,
   "id": "c9455e1c",
   "metadata": {},
   "outputs": [],
   "source": [
    "df['is_positive'] = df['sentiment'] == 'positive'\n",
    "df['is_negative'] = df['sentiment'] == 'negative'\n",
    "df['is_neutral'] = df['sentiment'] == 'neutral'\n",
    "df['no_category'] = 1"
   ]
  },
  {
   "cell_type": "code",
   "execution_count": 39,
   "id": "b28478fd",
   "metadata": {},
   "outputs": [
    {
     "data": {
      "text/html": [
       "<div>\n",
       "<style scoped>\n",
       "    .dataframe tbody tr th:only-of-type {\n",
       "        vertical-align: middle;\n",
       "    }\n",
       "\n",
       "    .dataframe tbody tr th {\n",
       "        vertical-align: top;\n",
       "    }\n",
       "\n",
       "    .dataframe thead th {\n",
       "        text-align: right;\n",
       "    }\n",
       "</style>\n",
       "<table border=\"1\" class=\"dataframe\">\n",
       "  <thead>\n",
       "    <tr style=\"text-align: right;\">\n",
       "      <th></th>\n",
       "      <th>__typename</th>\n",
       "      <th>id</th>\n",
       "      <th>profile</th>\n",
       "      <th>stats</th>\n",
       "      <th>metadata</th>\n",
       "      <th>createdAt</th>\n",
       "      <th>collectModule</th>\n",
       "      <th>referenceModule</th>\n",
       "      <th>appId</th>\n",
       "      <th>hidden</th>\n",
       "      <th>...</th>\n",
       "      <th>mirrorOf</th>\n",
       "      <th>mirrors</th>\n",
       "      <th>mainPost</th>\n",
       "      <th>content</th>\n",
       "      <th>doc</th>\n",
       "      <th>sentiment</th>\n",
       "      <th>is_positive</th>\n",
       "      <th>is_negative</th>\n",
       "      <th>is_neutral</th>\n",
       "      <th>no_category</th>\n",
       "    </tr>\n",
       "  </thead>\n",
       "  <tbody>\n",
       "    <tr>\n",
       "      <th>0</th>\n",
       "      <td>Mirror</td>\n",
       "      <td>0x686d-0x0c</td>\n",
       "      <td>{'id': '0x686d', 'name': None, 'bio': None, 'a...</td>\n",
       "      <td>{'totalAmountOfMirrors': 0, 'totalAmountOfColl...</td>\n",
       "      <td>{'name': 'Post by @wagame.lens', 'description'...</td>\n",
       "      <td>2022-09-17T19:00:16.000Z</td>\n",
       "      <td>{'__typename': 'FreeCollectModuleSettings', 't...</td>\n",
       "      <td>None</td>\n",
       "      <td>lenster</td>\n",
       "      <td>False</td>\n",
       "      <td>...</td>\n",
       "      <td>{'id': '0x81e8-0x32', 'profile': {'id': '0x81e...</td>\n",
       "      <td>NaN</td>\n",
       "      <td>NaN</td>\n",
       "      <td>Hey anon, there’s more 🚨 alpha 🚨 that we manag...</td>\n",
       "      <td>(Hey, anon, ,, there, ’s, more, 🚨, alpha, 🚨, t...</td>\n",
       "      <td>neutral</td>\n",
       "      <td>False</td>\n",
       "      <td>False</td>\n",
       "      <td>True</td>\n",
       "      <td>1</td>\n",
       "    </tr>\n",
       "    <tr>\n",
       "      <th>1</th>\n",
       "      <td>Mirror</td>\n",
       "      <td>0x09b7-0x22</td>\n",
       "      <td>{'id': '0x09b7', 'name': 'MAR', 'bio': None, '...</td>\n",
       "      <td>{'totalAmountOfMirrors': 0, 'totalAmountOfColl...</td>\n",
       "      <td>{'name': 'Post by @grocery.lens', 'description...</td>\n",
       "      <td>2022-09-17T18:59:30.000Z</td>\n",
       "      <td>{'__typename': 'FreeCollectModuleSettings', 't...</td>\n",
       "      <td>None</td>\n",
       "      <td>lenster</td>\n",
       "      <td>False</td>\n",
       "      <td>...</td>\n",
       "      <td>{'id': '0xf9f4-0x01', 'profile': {'id': '0xf9f...</td>\n",
       "      <td>NaN</td>\n",
       "      <td>NaN</td>\n",
       "      <td>Guten mergen. \\n\\nHere’s a little something fr...</td>\n",
       "      <td>(Guten, mergen, ., \\n\\n, Here, ’s, a, little, ...</td>\n",
       "      <td>neutral</td>\n",
       "      <td>False</td>\n",
       "      <td>False</td>\n",
       "      <td>True</td>\n",
       "      <td>1</td>\n",
       "    </tr>\n",
       "    <tr>\n",
       "      <th>2</th>\n",
       "      <td>Mirror</td>\n",
       "      <td>0xbdac-0x02</td>\n",
       "      <td>{'id': '0xbdac', 'name': 'saeid7', 'bio': 'may...</td>\n",
       "      <td>{'totalAmountOfMirrors': 0, 'totalAmountOfColl...</td>\n",
       "      <td>{'name': 'Post by @grocery.lens', 'description...</td>\n",
       "      <td>2022-09-17T18:58:42.000Z</td>\n",
       "      <td>{'__typename': 'FreeCollectModuleSettings', 't...</td>\n",
       "      <td>None</td>\n",
       "      <td>lenster</td>\n",
       "      <td>False</td>\n",
       "      <td>...</td>\n",
       "      <td>{'id': '0xf9f4-0x01', 'profile': {'id': '0xf9f...</td>\n",
       "      <td>NaN</td>\n",
       "      <td>NaN</td>\n",
       "      <td>Guten mergen. \\n\\nHere’s a little something fr...</td>\n",
       "      <td>(Guten, mergen, ., \\n\\n, Here, ’s, a, little, ...</td>\n",
       "      <td>neutral</td>\n",
       "      <td>False</td>\n",
       "      <td>False</td>\n",
       "      <td>True</td>\n",
       "      <td>1</td>\n",
       "    </tr>\n",
       "    <tr>\n",
       "      <th>3</th>\n",
       "      <td>Post</td>\n",
       "      <td>0xd547-0x0603</td>\n",
       "      <td>{'id': '0xd547', 'name': None, 'bio': None, 'a...</td>\n",
       "      <td>{'totalAmountOfMirrors': 0, 'totalAmountOfColl...</td>\n",
       "      <td>{'name': 'Fields', 'description': None, 'conte...</td>\n",
       "      <td>2022-09-17T18:57:44.000Z</td>\n",
       "      <td>{'__typename': 'FreeCollectModuleSettings', 't...</td>\n",
       "      <td>None</td>\n",
       "      <td>phaver</td>\n",
       "      <td>False</td>\n",
       "      <td>...</td>\n",
       "      <td>NaN</td>\n",
       "      <td>[]</td>\n",
       "      <td>NaN</td>\n",
       "      <td>Fields</td>\n",
       "      <td>(Fields)</td>\n",
       "      <td>neutral</td>\n",
       "      <td>False</td>\n",
       "      <td>False</td>\n",
       "      <td>True</td>\n",
       "      <td>1</td>\n",
       "    </tr>\n",
       "    <tr>\n",
       "      <th>4</th>\n",
       "      <td>Mirror</td>\n",
       "      <td>0x1d6e-0x0140</td>\n",
       "      <td>{'id': '0x1d6e', 'name': 'Eremita', 'bio': 'en...</td>\n",
       "      <td>{'totalAmountOfMirrors': 0, 'totalAmountOfColl...</td>\n",
       "      <td>{'name': 'The result of resin flower🌺\n",
       "\n",
       "#art #n...</td>\n",
       "      <td>2022-09-17T18:57:26.000Z</td>\n",
       "      <td>{'__typename': 'FreeCollectModuleSettings', 't...</td>\n",
       "      <td>None</td>\n",
       "      <td>phaver</td>\n",
       "      <td>False</td>\n",
       "      <td>...</td>\n",
       "      <td>{'id': '0xd512-0x41', 'profile': {'id': '0xd51...</td>\n",
       "      <td>NaN</td>\n",
       "      <td>NaN</td>\n",
       "      <td>The result of resin flower🌺\\n\\n#art #nft #nfta...</td>\n",
       "      <td>(The, result, of, resin, flower, 🌺, \\n\\n, #, a...</td>\n",
       "      <td>neutral</td>\n",
       "      <td>False</td>\n",
       "      <td>False</td>\n",
       "      <td>True</td>\n",
       "      <td>1</td>\n",
       "    </tr>\n",
       "  </tbody>\n",
       "</table>\n",
       "<p>5 rows × 22 columns</p>\n",
       "</div>"
      ],
      "text/plain": [
       "  __typename             id  \\\n",
       "0     Mirror    0x686d-0x0c   \n",
       "1     Mirror    0x09b7-0x22   \n",
       "2     Mirror    0xbdac-0x02   \n",
       "3       Post  0xd547-0x0603   \n",
       "4     Mirror  0x1d6e-0x0140   \n",
       "\n",
       "                                             profile  \\\n",
       "0  {'id': '0x686d', 'name': None, 'bio': None, 'a...   \n",
       "1  {'id': '0x09b7', 'name': 'MAR', 'bio': None, '...   \n",
       "2  {'id': '0xbdac', 'name': 'saeid7', 'bio': 'may...   \n",
       "3  {'id': '0xd547', 'name': None, 'bio': None, 'a...   \n",
       "4  {'id': '0x1d6e', 'name': 'Eremita', 'bio': 'en...   \n",
       "\n",
       "                                               stats  \\\n",
       "0  {'totalAmountOfMirrors': 0, 'totalAmountOfColl...   \n",
       "1  {'totalAmountOfMirrors': 0, 'totalAmountOfColl...   \n",
       "2  {'totalAmountOfMirrors': 0, 'totalAmountOfColl...   \n",
       "3  {'totalAmountOfMirrors': 0, 'totalAmountOfColl...   \n",
       "4  {'totalAmountOfMirrors': 0, 'totalAmountOfColl...   \n",
       "\n",
       "                                            metadata  \\\n",
       "0  {'name': 'Post by @wagame.lens', 'description'...   \n",
       "1  {'name': 'Post by @grocery.lens', 'description...   \n",
       "2  {'name': 'Post by @grocery.lens', 'description...   \n",
       "3  {'name': 'Fields', 'description': None, 'conte...   \n",
       "4  {'name': 'The result of resin flower🌺\n",
       "\n",
       "#art #n...   \n",
       "\n",
       "                  createdAt  \\\n",
       "0  2022-09-17T19:00:16.000Z   \n",
       "1  2022-09-17T18:59:30.000Z   \n",
       "2  2022-09-17T18:58:42.000Z   \n",
       "3  2022-09-17T18:57:44.000Z   \n",
       "4  2022-09-17T18:57:26.000Z   \n",
       "\n",
       "                                       collectModule referenceModule    appId  \\\n",
       "0  {'__typename': 'FreeCollectModuleSettings', 't...            None  lenster   \n",
       "1  {'__typename': 'FreeCollectModuleSettings', 't...            None  lenster   \n",
       "2  {'__typename': 'FreeCollectModuleSettings', 't...            None  lenster   \n",
       "3  {'__typename': 'FreeCollectModuleSettings', 't...            None   phaver   \n",
       "4  {'__typename': 'FreeCollectModuleSettings', 't...            None   phaver   \n",
       "\n",
       "   hidden  ...                                           mirrorOf  mirrors  \\\n",
       "0   False  ...  {'id': '0x81e8-0x32', 'profile': {'id': '0x81e...      NaN   \n",
       "1   False  ...  {'id': '0xf9f4-0x01', 'profile': {'id': '0xf9f...      NaN   \n",
       "2   False  ...  {'id': '0xf9f4-0x01', 'profile': {'id': '0xf9f...      NaN   \n",
       "3   False  ...                                                NaN       []   \n",
       "4   False  ...  {'id': '0xd512-0x41', 'profile': {'id': '0xd51...      NaN   \n",
       "\n",
       "  mainPost                                            content  \\\n",
       "0      NaN  Hey anon, there’s more 🚨 alpha 🚨 that we manag...   \n",
       "1      NaN  Guten mergen. \\n\\nHere’s a little something fr...   \n",
       "2      NaN  Guten mergen. \\n\\nHere’s a little something fr...   \n",
       "3      NaN                                             Fields   \n",
       "4      NaN  The result of resin flower🌺\\n\\n#art #nft #nfta...   \n",
       "\n",
       "                                                 doc sentiment is_positive  \\\n",
       "0  (Hey, anon, ,, there, ’s, more, 🚨, alpha, 🚨, t...   neutral       False   \n",
       "1  (Guten, mergen, ., \\n\\n, Here, ’s, a, little, ...   neutral       False   \n",
       "2  (Guten, mergen, ., \\n\\n, Here, ’s, a, little, ...   neutral       False   \n",
       "3                                           (Fields)   neutral       False   \n",
       "4  (The, result, of, resin, flower, 🌺, \\n\\n, #, a...   neutral       False   \n",
       "\n",
       "  is_negative  is_neutral  no_category  \n",
       "0       False        True            1  \n",
       "1       False        True            1  \n",
       "2       False        True            1  \n",
       "3       False        True            1  \n",
       "4       False        True            1  \n",
       "\n",
       "[5 rows x 22 columns]"
      ]
     },
     "execution_count": 39,
     "metadata": {},
     "output_type": "execute_result"
    }
   ],
   "source": [
    "df.head()"
   ]
  },
  {
   "cell_type": "code",
   "execution_count": 40,
   "id": "b825b401",
   "metadata": {},
   "outputs": [],
   "source": [
    "df.createdAt = pd.to_datetime(df.createdAt)"
   ]
  },
  {
   "cell_type": "code",
   "execution_count": 41,
   "id": "c127eba4",
   "metadata": {},
   "outputs": [],
   "source": [
    "#grouped_data = df.groupby([pd.Grouper(key='createdAt', axis=0, freq='h'),'sentiment'],as_index=True).count()\n",
    "#sns.lineplot(data=grouped_data, linewidth=2.5,x='')"
   ]
  },
  {
   "cell_type": "code",
   "execution_count": 42,
   "id": "2b672dba",
   "metadata": {},
   "outputs": [],
   "source": [
    "grouped_data = df.groupby([pd.Grouper(key='createdAt', axis=0, freq='h', )])[['is_negative','is_positive','is_neutral',\n",
    "                                                              'no_category']].sum()"
   ]
  },
  {
   "cell_type": "code",
   "execution_count": 43,
   "id": "b30ae047",
   "metadata": {},
   "outputs": [
    {
     "data": {
      "image/png": "[encoded data removed]",
      "text/plain": [
       "<Figure size 800x400 with 1 Axes>"
      ]
     },
     "metadata": {},
     "output_type": "display_data"
    }
   ],
   "source": [
    "fig, ax = plt.subplots(figsize=(8,4))\n",
    "sns.lineplot(data=grouped_data, linewidth=2.5,ax=ax)\n",
    "ax.xaxis.set_major_locator(plt.MaxNLocator(7))\n",
    "ax.xaxis.set_major_formatter(mdates.DateFormatter('%d-%m-%Y %H:%M'))\n",
    "ax.grid(True)\n",
    "fig.autofmt_xdate()\n",
    "plt.show()"
   ]
  },
  {
   "cell_type": "code",
   "execution_count": 64,
   "id": "0ceb2fc3",
   "metadata": {},
   "outputs": [],
   "source": [
    "# write to s3\n",
    "#df['createdAt'] = df['createdAt'].dt.strftime('%Y-%m-%d %H:%M:%S')\n",
    "df.drop(columns=['doc'], inplace=True)"
   ]
  },
  {
   "cell_type": "code",
   "execution_count": 71,
   "id": "06b38098",
   "metadata": {},
   "outputs": [],
   "source": [
    "df_to_export = df[['createdAt','is_negative','is_positive','is_neutral','no_category']]"
   ]
  },
  {
   "cell_type": "code",
   "execution_count": 65,
   "id": "aa09f4a1",
   "metadata": {},
   "outputs": [],
   "source": [
    "class NumpyEncoder(json.JSONEncoder):\n",
    "    def default(self, obj):\n",
    "        if isinstance(obj, np.ndarray):\n",
    "            return obj.tolist()\n",
    "        return json.JSONEncoder.default(self, obj)\n",
    "\n",
    "#a = np.array([[1, 2, 3], [4, 5, 6]])\n",
    "#print(a.shape)\n",
    "#json_dump = json.dumps({'a': a, 'aa': [2, (2, 3, 4), a], 'bb': [2]}, \n",
    "#                       cls=NumpyEncoder)\n",
    "#print(json_dump)"
   ]
  },
  {
   "cell_type": "code",
   "execution_count": 72,
   "id": "684d1d2b",
   "metadata": {},
   "outputs": [
    {
     "data": {
      "text/plain": [
       "{'ResponseMetadata': {'RequestId': 'BPHH3M84HD6JJ160',\n",
       "  'HostId': 'Q7ZSEshbafGoHGaVtuds6gZ28a4gxo62VkxPZOZbacs1A71VqniRAEeRYWKznkvED+jeY/mwJHk=',\n",
       "  'HTTPStatusCode': 200,\n",
       "  'HTTPHeaders': {'x-amz-id-2': 'Q7ZSEshbafGoHGaVtuds6gZ28a4gxo62VkxPZOZbacs1A71VqniRAEeRYWKznkvED+jeY/mwJHk=',\n",
       "   'x-amz-request-id': 'BPHH3M84HD6JJ160',\n",
       "   'date': 'Sun, 18 Sep 2022 07:27:08 GMT',\n",
       "   'etag': '\"5be65d029f08f6fc2e6ece8c5ea70879\"',\n",
       "   'server': 'AmazonS3',\n",
       "   'content-length': '0'},\n",
       "  'RetryAttempts': 0},\n",
       " 'ETag': '\"5be65d029f08f6fc2e6ece8c5ea70879\"'}"
      ]
     },
     "execution_count": 72,
     "metadata": {},
     "output_type": "execute_result"
    }
   ],
   "source": [
    "#df.to_records(index=False)\n",
    "json_dump = json.dumps(df_to_export.to_records(index=False), cls=NumpyEncoder)\n",
    "s3.put_object(\n",
    "            Body=json_dump,\n",
    "            Bucket='dune-ml',\n",
    "            Key='{}.json'.format('sentiment_publications_v2'))"
   ]
  },
  {
   "cell_type": "code",
   "execution_count": 73,
   "id": "1fb18a8d",
   "metadata": {},
   "outputs": [
    {
     "data": {
      "text/html": [
       "<div>\n",
       "<style scoped>\n",
       "    .dataframe tbody tr th:only-of-type {\n",
       "        vertical-align: middle;\n",
       "    }\n",
       "\n",
       "    .dataframe tbody tr th {\n",
       "        vertical-align: top;\n",
       "    }\n",
       "\n",
       "    .dataframe thead th {\n",
       "        text-align: right;\n",
       "    }\n",
       "</style>\n",
       "<table border=\"1\" class=\"dataframe\">\n",
       "  <thead>\n",
       "    <tr style=\"text-align: right;\">\n",
       "      <th></th>\n",
       "      <th>createdAt</th>\n",
       "      <th>is_negative</th>\n",
       "      <th>is_positive</th>\n",
       "      <th>is_neutral</th>\n",
       "      <th>no_category</th>\n",
       "    </tr>\n",
       "  </thead>\n",
       "  <tbody>\n",
       "    <tr>\n",
       "      <th>0</th>\n",
       "      <td>2022-09-17 19:00:16</td>\n",
       "      <td>False</td>\n",
       "      <td>False</td>\n",
       "      <td>True</td>\n",
       "      <td>1</td>\n",
       "    </tr>\n",
       "    <tr>\n",
       "      <th>1</th>\n",
       "      <td>2022-09-17 18:59:30</td>\n",
       "      <td>False</td>\n",
       "      <td>False</td>\n",
       "      <td>True</td>\n",
       "      <td>1</td>\n",
       "    </tr>\n",
       "    <tr>\n",
       "      <th>2</th>\n",
       "      <td>2022-09-17 18:58:42</td>\n",
       "      <td>False</td>\n",
       "      <td>False</td>\n",
       "      <td>True</td>\n",
       "      <td>1</td>\n",
       "    </tr>\n",
       "    <tr>\n",
       "      <th>3</th>\n",
       "      <td>2022-09-17 18:57:44</td>\n",
       "      <td>False</td>\n",
       "      <td>False</td>\n",
       "      <td>True</td>\n",
       "      <td>1</td>\n",
       "    </tr>\n",
       "    <tr>\n",
       "      <th>4</th>\n",
       "      <td>2022-09-17 18:57:26</td>\n",
       "      <td>False</td>\n",
       "      <td>False</td>\n",
       "      <td>True</td>\n",
       "      <td>1</td>\n",
       "    </tr>\n",
       "  </tbody>\n",
       "</table>\n",
       "</div>"
      ],
      "text/plain": [
       "             createdAt  is_negative  is_positive  is_neutral  no_category\n",
       "0  2022-09-17 19:00:16        False        False        True            1\n",
       "1  2022-09-17 18:59:30        False        False        True            1\n",
       "2  2022-09-17 18:58:42        False        False        True            1\n",
       "3  2022-09-17 18:57:44        False        False        True            1\n",
       "4  2022-09-17 18:57:26        False        False        True            1"
      ]
     },
     "execution_count": 73,
     "metadata": {},
     "output_type": "execute_result"
    }
   ],
   "source": [
    "df_to_export.head()"
   ]
  },
  {
   "cell_type": "code",
   "execution_count": null,
   "id": "9f1d1c40",
   "metadata": {},
   "outputs": [],
   "source": []
  }
 ],
 "metadata": {
  "kernelspec": {
   "display_name": "Python 3 (ipykernel)",
   "language": "python",
   "name": "python3"
  },
  "language_info": {
   "codemirror_mode": {
    "name": "ipython",
    "version": 3
   },
   "file_extension": ".py",
   "mimetype": "text/x-python",
   "name": "python",
   "nbconvert_exporter": "python",
   "pygments_lexer": "ipython3",
   "version": "3.9.13"
  }
 },
 "nbformat": 4,
 "nbformat_minor": 5
}
