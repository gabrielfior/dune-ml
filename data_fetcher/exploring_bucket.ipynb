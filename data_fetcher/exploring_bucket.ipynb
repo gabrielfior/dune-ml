{
 "cells": [
  {
   "cell_type": "code",
   "execution_count": 4,
   "id": "a1e4d665",
   "metadata": {},
   "outputs": [],
   "source": [
    "s3 = boto3.resource('s3')"
   ]
  },
  {
   "cell_type": "code",
   "execution_count": 10,
   "id": "f3d119ca",
   "metadata": {},
   "outputs": [
    {
     "data": {
      "text/plain": [
       "True"
      ]
     },
     "execution_count": 10,
     "metadata": {},
     "output_type": "execute_result"
    }
   ],
   "source": [
    "import boto3\n",
    "import json\n",
    "import os\n",
    "import dotenv\n",
    "dotenv.load_dotenv()"
   ]
  },
  {
   "cell_type": "code",
   "execution_count": 7,
   "id": "a4e1e4e7",
   "metadata": {},
   "outputs": [
    {
     "name": "stdout",
     "output_type": "stream",
     "text": [
      "Collecting python-dotenv\n",
      "  Downloading python_dotenv-0.21.0-py3-none-any.whl (18 kB)\n",
      "Installing collected packages: python-dotenv\n",
      "Successfully installed python-dotenv-0.21.0\n"
     ]
    }
   ],
   "source": [
    "!pip install python-dotenv"
   ]
  },
  {
   "cell_type": "markdown",
   "id": "f93a31ba",
   "metadata": {},
   "source": [
    "## Running query"
   ]
  },
  {
   "cell_type": "code",
   "execution_count": 14,
   "id": "56dd1301",
   "metadata": {},
   "outputs": [
    {
     "data": {
      "text/plain": [
       "{'ResponseMetadata': {'RequestId': 'ARY1H978VXD34CN7',\n",
       "  'HostId': 'FbjB0GchSXHYTBYqmgsfDbdneqhUDZnkar8NHc1qLOj5zP4b0+dgYIMpfpTq95EChd9E4NwHsDs=',\n",
       "  'HTTPStatusCode': 200,\n",
       "  'HTTPHeaders': {'x-amz-id-2': 'FbjB0GchSXHYTBYqmgsfDbdneqhUDZnkar8NHc1qLOj5zP4b0+dgYIMpfpTq95EChd9E4NwHsDs=',\n",
       "   'x-amz-request-id': 'ARY1H978VXD34CN7',\n",
       "   'date': 'Sat, 17 Sep 2022 14:00:55 GMT',\n",
       "   'etag': '\"067c39723a03f5f3e58fa3f912673e40\"',\n",
       "   'server': 'AmazonS3',\n",
       "   'content-length': '0'},\n",
       "  'RetryAttempts': 0},\n",
       " 'ETag': '\"067c39723a03f5f3e58fa3f912673e40\"'}"
      ]
     },
     "execution_count": 14,
     "metadata": {},
     "output_type": "execute_result"
    }
   ],
   "source": [
    "bucket_name = 'dune-ml'\n",
    "s3 = boto3.client('s3',\n",
    "                 aws_access_key_id=os.environ['AWS_ACCESS_KEY'],\n",
    "    aws_secret_access_key=os.environ['AWS_SECRET_KEY'])\n",
    "json_object = {'a':'dummy'}\n",
    "s3.put_object(\n",
    "     Body=json.dumps(json_object),\n",
    "     Bucket=bucket_name,\n",
    "     Key='dummy-file.json'\n",
    ")"
   ]
  },
  {
   "cell_type": "code",
   "execution_count": null,
   "id": "b63e347e",
   "metadata": {},
   "outputs": [],
   "source": []
  }
 ],
 "metadata": {
  "kernelspec": {
   "display_name": "Python 3 (ipykernel)",
   "language": "python",
   "name": "python3"
  },
  "language_info": {
   "codemirror_mode": {
    "name": "ipython",
    "version": 3
   },
   "file_extension": ".py",
   "mimetype": "text/x-python",
   "name": "python",
   "nbconvert_exporter": "python",
   "pygments_lexer": "ipython3",
   "version": "3.9.5"
  }
 },
 "nbformat": 4,
 "nbformat_minor": 5
}
